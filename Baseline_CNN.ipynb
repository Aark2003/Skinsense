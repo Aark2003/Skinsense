{
 "cells": [
  {
   "cell_type": "code",
   "execution_count": null,
   "id": "697301a2",
   "metadata": {},
   "outputs": [],
   "source": [
    "import numpy as np\n",
    "import pandas as pd\n",
    "import tensorflow as tf\n",
    "from sklearn.model_selection import train_test_split\n",
    "from keras.utils import to_categorical # convert to one-hot-encoding\n",
    "\n",
    "from tensorflow.keras.preprocessing.image import ImageDataGenerator\n",
    "from tensorflow.keras import layers\n",
    "from tensorflow.keras import Model\n",
    "from tensorflow.keras.optimizers import Adam\n",
    "from tensorflow.keras.callbacks import ReduceLROnPlateau\n",
    "%matplotlib inline\n",
    "\n",
    "import matplotlib.pyplot as plt"
   ]
  },
  {
   "cell_type": "code",
   "execution_count": 2,
   "id": "a7df3e94",
   "metadata": {},
   "outputs": [],
   "source": [
    "skin_df = pd.read_csv('hmnist_64_64_RBG.csv')"
   ]
  },
  {
   "cell_type": "code",
   "execution_count": 3,
   "id": "6155292b",
   "metadata": {
    "jupyter": {
     "source_hidden": true
    }
   },
   "outputs": [
    {
     "data": {
      "text/html": [
       "<div>\n",
       "<style scoped>\n",
       "    .dataframe tbody tr th:only-of-type {\n",
       "        vertical-align: middle;\n",
       "    }\n",
       "\n",
       "    .dataframe tbody tr th {\n",
       "        vertical-align: top;\n",
       "    }\n",
       "\n",
       "    .dataframe thead th {\n",
       "        text-align: right;\n",
       "    }\n",
       "</style>\n",
       "<table border=\"1\" class=\"dataframe\">\n",
       "  <thead>\n",
       "    <tr style=\"text-align: right;\">\n",
       "      <th></th>\n",
       "      <th>0</th>\n",
       "      <th>1</th>\n",
       "      <th>2</th>\n",
       "      <th>3</th>\n",
       "      <th>4</th>\n",
       "      <th>5</th>\n",
       "      <th>6</th>\n",
       "      <th>7</th>\n",
       "      <th>8</th>\n",
       "      <th>9</th>\n",
       "      <th>...</th>\n",
       "      <th>12279</th>\n",
       "      <th>12280</th>\n",
       "      <th>12281</th>\n",
       "      <th>12282</th>\n",
       "      <th>12283</th>\n",
       "      <th>12284</th>\n",
       "      <th>12285</th>\n",
       "      <th>12286</th>\n",
       "      <th>12287</th>\n",
       "      <th>label</th>\n",
       "    </tr>\n",
       "  </thead>\n",
       "  <tbody>\n",
       "    <tr>\n",
       "      <th>0</th>\n",
       "      <td>191</td>\n",
       "      <td>152</td>\n",
       "      <td>194</td>\n",
       "      <td>191</td>\n",
       "      <td>153</td>\n",
       "      <td>195</td>\n",
       "      <td>192</td>\n",
       "      <td>149</td>\n",
       "      <td>192</td>\n",
       "      <td>194</td>\n",
       "      <td>...</td>\n",
       "      <td>185</td>\n",
       "      <td>154</td>\n",
       "      <td>180</td>\n",
       "      <td>186</td>\n",
       "      <td>156</td>\n",
       "      <td>184</td>\n",
       "      <td>182</td>\n",
       "      <td>152</td>\n",
       "      <td>173</td>\n",
       "      <td>2</td>\n",
       "    </tr>\n",
       "    <tr>\n",
       "      <th>1</th>\n",
       "      <td>24</td>\n",
       "      <td>13</td>\n",
       "      <td>23</td>\n",
       "      <td>24</td>\n",
       "      <td>14</td>\n",
       "      <td>28</td>\n",
       "      <td>37</td>\n",
       "      <td>24</td>\n",
       "      <td>46</td>\n",
       "      <td>61</td>\n",
       "      <td>...</td>\n",
       "      <td>26</td>\n",
       "      <td>15</td>\n",
       "      <td>29</td>\n",
       "      <td>27</td>\n",
       "      <td>15</td>\n",
       "      <td>28</td>\n",
       "      <td>24</td>\n",
       "      <td>13</td>\n",
       "      <td>25</td>\n",
       "      <td>2</td>\n",
       "    </tr>\n",
       "    <tr>\n",
       "      <th>2</th>\n",
       "      <td>185</td>\n",
       "      <td>129</td>\n",
       "      <td>140</td>\n",
       "      <td>192</td>\n",
       "      <td>136</td>\n",
       "      <td>151</td>\n",
       "      <td>198</td>\n",
       "      <td>142</td>\n",
       "      <td>156</td>\n",
       "      <td>198</td>\n",
       "      <td>...</td>\n",
       "      <td>152</td>\n",
       "      <td>120</td>\n",
       "      <td>138</td>\n",
       "      <td>144</td>\n",
       "      <td>113</td>\n",
       "      <td>123</td>\n",
       "      <td>115</td>\n",
       "      <td>81</td>\n",
       "      <td>84</td>\n",
       "      <td>2</td>\n",
       "    </tr>\n",
       "    <tr>\n",
       "      <th>3</th>\n",
       "      <td>24</td>\n",
       "      <td>11</td>\n",
       "      <td>19</td>\n",
       "      <td>36</td>\n",
       "      <td>19</td>\n",
       "      <td>30</td>\n",
       "      <td>64</td>\n",
       "      <td>38</td>\n",
       "      <td>50</td>\n",
       "      <td>91</td>\n",
       "      <td>...</td>\n",
       "      <td>27</td>\n",
       "      <td>13</td>\n",
       "      <td>16</td>\n",
       "      <td>25</td>\n",
       "      <td>12</td>\n",
       "      <td>16</td>\n",
       "      <td>24</td>\n",
       "      <td>9</td>\n",
       "      <td>14</td>\n",
       "      <td>2</td>\n",
       "    </tr>\n",
       "    <tr>\n",
       "      <th>4</th>\n",
       "      <td>138</td>\n",
       "      <td>94</td>\n",
       "      <td>117</td>\n",
       "      <td>158</td>\n",
       "      <td>113</td>\n",
       "      <td>138</td>\n",
       "      <td>178</td>\n",
       "      <td>133</td>\n",
       "      <td>161</td>\n",
       "      <td>191</td>\n",
       "      <td>...</td>\n",
       "      <td>140</td>\n",
       "      <td>106</td>\n",
       "      <td>118</td>\n",
       "      <td>108</td>\n",
       "      <td>77</td>\n",
       "      <td>92</td>\n",
       "      <td>67</td>\n",
       "      <td>40</td>\n",
       "      <td>55</td>\n",
       "      <td>2</td>\n",
       "    </tr>\n",
       "  </tbody>\n",
       "</table>\n",
       "<p>5 rows × 12289 columns</p>\n",
       "</div>"
      ],
      "text/plain": [
       "     0    1    2    3    4    5    6    7    8    9  ...  12279  12280  12281  \\\n",
       "0  191  152  194  191  153  195  192  149  192  194  ...    185    154    180   \n",
       "1   24   13   23   24   14   28   37   24   46   61  ...     26     15     29   \n",
       "2  185  129  140  192  136  151  198  142  156  198  ...    152    120    138   \n",
       "3   24   11   19   36   19   30   64   38   50   91  ...     27     13     16   \n",
       "4  138   94  117  158  113  138  178  133  161  191  ...    140    106    118   \n",
       "\n",
       "   12282  12283  12284  12285  12286  12287  label  \n",
       "0    186    156    184    182    152    173      2  \n",
       "1     27     15     28     24     13     25      2  \n",
       "2    144    113    123    115     81     84      2  \n",
       "3     25     12     16     24      9     14      2  \n",
       "4    108     77     92     67     40     55      2  \n",
       "\n",
       "[5 rows x 12289 columns]"
      ]
     },
     "execution_count": 3,
     "metadata": {},
     "output_type": "execute_result"
    }
   ],
   "source": [
    "skin_df.head()\n"
   ]
  },
  {
   "cell_type": "code",
   "execution_count": 4,
   "id": "fc8a30fc",
   "metadata": {},
   "outputs": [],
   "source": [
    "X = skin_df.drop(\"label\", axis=1).values\n",
    "label = skin_df[\"label\"].values"
   ]
  },
  {
   "cell_type": "code",
   "execution_count": 5,
   "id": "a0457d6f",
   "metadata": {},
   "outputs": [
    {
     "data": {
      "text/plain": [
       "((10015, 12288), (10015,))"
      ]
     },
     "execution_count": 5,
     "metadata": {},
     "output_type": "execute_result"
    }
   ],
   "source": [
    "X.shape, label.shape"
   ]
  },
  {
   "cell_type": "code",
   "execution_count": 6,
   "id": "5a04bdc8",
   "metadata": {},
   "outputs": [],
   "source": [
    "X_mean = np.mean(X)\n",
    "X_std = np.std(X)\n",
    "X = (X - X_mean)/X_std"
   ]
  },
  {
   "cell_type": "code",
   "execution_count": 7,
   "id": "02028e97",
   "metadata": {},
   "outputs": [],
   "source": [
    "X_train_orig, X_test, y_train_orig, y_test = train_test_split(X, label, test_size=0.1,random_state=0)"
   ]
  },
  {
   "cell_type": "code",
   "execution_count": 8,
   "id": "57c3b0bf",
   "metadata": {},
   "outputs": [
    {
     "data": {
      "text/plain": [
       "((9013, 12288), (1002, 12288), (9013,), (1002,))"
      ]
     },
     "execution_count": 8,
     "metadata": {},
     "output_type": "execute_result"
    }
   ],
   "source": [
    "X_train_orig.shape, X_test.shape, y_train_orig.shape, y_test.shape"
   ]
  },
  {
   "cell_type": "code",
   "execution_count": 9,
   "id": "e65fcebe",
   "metadata": {},
   "outputs": [
    {
     "data": {
      "text/plain": [
       "((7210, 12288), (1803, 12288), (7210,), (1803,))"
      ]
     },
     "execution_count": 9,
     "metadata": {},
     "output_type": "execute_result"
    }
   ],
   "source": [
    "X_train, X_val, y_train, y_val = train_test_split(X_train_orig, y_train_orig, test_size=0.2, random_state=1)\n",
    "X_train.shape, X_val.shape, y_train.shape, y_val.shape"
   ]
  },
  {
   "cell_type": "code",
   "execution_count": 10,
   "id": "e31a127e",
   "metadata": {},
   "outputs": [
    {
     "data": {
      "text/plain": [
       "((7210, 64, 64, 3), (1803, 64, 64, 3), (1002, 64, 64, 3))"
      ]
     },
     "execution_count": 10,
     "metadata": {},
     "output_type": "execute_result"
    }
   ],
   "source": [
    "X_train = X_train.reshape(X_train.shape[0], *(64, 64, 3))\n",
    "X_val = X_val.reshape(X_val.shape[0], *(64, 64, 3))\n",
    "X_test = X_test.reshape(X_test.shape[0], *(64, 64, 3))\n",
    "X_train.shape, X_val.shape, X_test.shape"
   ]
  },
  {
   "cell_type": "code",
   "execution_count": 11,
   "id": "86f187c3",
   "metadata": {},
   "outputs": [
    {
     "data": {
      "text/plain": [
       "((7210, 7), (1803, 7), (1002, 7))"
      ]
     },
     "execution_count": 11,
     "metadata": {},
     "output_type": "execute_result"
    }
   ],
   "source": [
    "y_train = to_categorical(y_train)\n",
    "y_val = to_categorical(y_val)\n",
    "y_test = to_categorical(y_test)\n",
    "y_train.shape, y_val.shape, y_test.shape"
   ]
  },
  {
   "cell_type": "code",
   "execution_count": 12,
   "id": "8ed8c036",
   "metadata": {},
   "outputs": [
    {
     "name": "stderr",
     "output_type": "stream",
     "text": [
      "C:\\Users\\dell6\\anaconda3\\lib\\site-packages\\keras\\src\\optimizers\\legacy\\gradient_descent.py:114: UserWarning: The `lr` argument is deprecated, use `learning_rate` instead.\n",
      "  super().__init__(name, **kwargs)\n"
     ]
    }
   ],
   "source": [
    "img_input = layers.Input(shape=(64, 64, 3))\n",
    "\n",
    "# First convolution extracts 16 filters that are 3x3\n",
    "# Convolution is followed by max-pooling layer with a 2x2 window\n",
    "x = layers.Conv2D(16, 3, activation='relu', padding='same')(img_input)\n",
    "x = layers.MaxPooling2D(2)(x)\n",
    "\n",
    "# Second convolution extracts 32 filters that are 3x3\n",
    "# Convolution is followed by max-pooling layer with a 2x2 window\n",
    "x = layers.Conv2D(32, 3, activation='relu', padding='same')(x)\n",
    "x = layers.MaxPooling2D(2)(x)\n",
    "\n",
    "# Third convolution extracts 64 filters that are 3x3\n",
    "# Convolution is followed by max-pooling layer with a 2x2 window\n",
    "x = layers.Convolution2D(64, 3, activation='relu', padding='same')(x)\n",
    "x = layers.MaxPooling2D(2)(x)\n",
    "\n",
    "# Flatten feature map to a 1-dim tensor\n",
    "x = layers.Flatten()(x)\n",
    "\n",
    "# Create a fully connected layer with ReLU activation and 512 hidden units\n",
    "x = layers.Dense(512, activation='relu')(x)\n",
    "\n",
    "# Add a dropout rate of 0.5\n",
    "x = layers.Dropout(0.5)(x)\n",
    "\n",
    "# Create output layer with a single node and sigmoid activation\n",
    "output = layers.Dense(7, activation='softmax')(x)\n",
    "\n",
    "# Configure and compile the model\n",
    "model = Model(img_input, output)\n",
    "\n",
    "optimizer = tf.keras.optimizers.legacy.SGD(lr=0.001, decay=0.0)\n",
    "\n",
    "model.compile(loss='categorical_crossentropy', optimizer=optimizer, metrics=['accuracy'])"
   ]
  },
  {
   "cell_type": "code",
   "execution_count": 13,
   "id": "11dc2918",
   "metadata": {},
   "outputs": [
    {
     "name": "stdout",
     "output_type": "stream",
     "text": [
      "Model: \"model\"\n",
      "_________________________________________________________________\n",
      " Layer (type)                Output Shape              Param #   \n",
      "=================================================================\n",
      " input_1 (InputLayer)        [(None, 64, 64, 3)]       0         \n",
      "                                                                 \n",
      " conv2d (Conv2D)             (None, 64, 64, 16)        448       \n",
      "                                                                 \n",
      " max_pooling2d (MaxPooling2  (None, 32, 32, 16)        0         \n",
      " D)                                                              \n",
      "                                                                 \n",
      " conv2d_1 (Conv2D)           (None, 32, 32, 32)        4640      \n",
      "                                                                 \n",
      " max_pooling2d_1 (MaxPoolin  (None, 16, 16, 32)        0         \n",
      " g2D)                                                            \n",
      "                                                                 \n",
      " conv2d_2 (Conv2D)           (None, 16, 16, 64)        18496     \n",
      "                                                                 \n",
      " max_pooling2d_2 (MaxPoolin  (None, 8, 8, 64)          0         \n",
      " g2D)                                                            \n",
      "                                                                 \n",
      " flatten (Flatten)           (None, 4096)              0         \n",
      "                                                                 \n",
      " dense (Dense)               (None, 512)               2097664   \n",
      "                                                                 \n",
      " dropout (Dropout)           (None, 512)               0         \n",
      "                                                                 \n",
      " dense_1 (Dense)             (None, 7)                 3591      \n",
      "                                                                 \n",
      "=================================================================\n",
      "Total params: 2124839 (8.11 MB)\n",
      "Trainable params: 2124839 (8.11 MB)\n",
      "Non-trainable params: 0 (0.00 Byte)\n",
      "_________________________________________________________________\n"
     ]
    }
   ],
   "source": [
    "model.summary()"
   ]
  },
  {
   "cell_type": "code",
   "execution_count": 14,
   "id": "ef767cd2",
   "metadata": {
    "scrolled": true
   },
   "outputs": [
    {
     "name": "stderr",
     "output_type": "stream",
     "text": [
      "C:\\Users\\dell6\\AppData\\Local\\Temp\\ipykernel_17952\\4120936303.py:11: UserWarning: `Model.fit_generator` is deprecated and will be removed in a future version. Please use `Model.fit`, which supports generators.\n",
      "  history = model.fit_generator(train_datagen.flow(X_train,y_train, batch_size=batch_size),\n"
     ]
    },
    {
     "name": "stdout",
     "output_type": "stream",
     "text": [
      "Epoch 1/30\n",
      "112/112 [==============================] - ETA: 0s - loss: 1.3147 - accuracy: 0.6391WARNING:tensorflow:Learning rate reduction is conditioned on metric `val_acc` which is not available. Available metrics are: loss,accuracy,val_loss,val_accuracy,lr\n",
      "112/112 [==============================] - 25s 211ms/step - loss: 1.3147 - accuracy: 0.6391 - val_loss: 1.1333 - val_accuracy: 0.6705 - lr: 0.0010\n",
      "Epoch 2/30\n",
      "112/112 [==============================] - ETA: 0s - loss: 1.1289 - accuracy: 0.6672WARNING:tensorflow:Learning rate reduction is conditioned on metric `val_acc` which is not available. Available metrics are: loss,accuracy,val_loss,val_accuracy,lr\n",
      "112/112 [==============================] - 23s 207ms/step - loss: 1.1289 - accuracy: 0.6672 - val_loss: 1.0881 - val_accuracy: 0.6705 - lr: 0.0010\n",
      "Epoch 3/30\n",
      "112/112 [==============================] - ETA: 0s - loss: 1.1016 - accuracy: 0.6646WARNING:tensorflow:Learning rate reduction is conditioned on metric `val_acc` which is not available. Available metrics are: loss,accuracy,val_loss,val_accuracy,lr\n",
      "112/112 [==============================] - 24s 211ms/step - loss: 1.1016 - accuracy: 0.6646 - val_loss: 1.0601 - val_accuracy: 0.6705 - lr: 0.0010\n",
      "Epoch 4/30\n",
      "112/112 [==============================] - ETA: 0s - loss: 1.0733 - accuracy: 0.6634WARNING:tensorflow:Learning rate reduction is conditioned on metric `val_acc` which is not available. Available metrics are: loss,accuracy,val_loss,val_accuracy,lr\n",
      "112/112 [==============================] - 24s 215ms/step - loss: 1.0733 - accuracy: 0.6634 - val_loss: 1.0441 - val_accuracy: 0.6705 - lr: 0.0010\n",
      "Epoch 5/30\n",
      "112/112 [==============================] - ETA: 0s - loss: 1.0571 - accuracy: 0.6658WARNING:tensorflow:Learning rate reduction is conditioned on metric `val_acc` which is not available. Available metrics are: loss,accuracy,val_loss,val_accuracy,lr\n",
      "112/112 [==============================] - 23s 208ms/step - loss: 1.0571 - accuracy: 0.6658 - val_loss: 1.0297 - val_accuracy: 0.6711 - lr: 0.0010\n",
      "Epoch 6/30\n",
      "112/112 [==============================] - ETA: 0s - loss: 1.0476 - accuracy: 0.6647WARNING:tensorflow:Learning rate reduction is conditioned on metric `val_acc` which is not available. Available metrics are: loss,accuracy,val_loss,val_accuracy,lr\n",
      "112/112 [==============================] - 25s 219ms/step - loss: 1.0476 - accuracy: 0.6647 - val_loss: 1.0260 - val_accuracy: 0.6711 - lr: 0.0010\n",
      "Epoch 7/30\n",
      "112/112 [==============================] - ETA: 0s - loss: 1.0361 - accuracy: 0.6634WARNING:tensorflow:Learning rate reduction is conditioned on metric `val_acc` which is not available. Available metrics are: loss,accuracy,val_loss,val_accuracy,lr\n",
      "112/112 [==============================] - 24s 211ms/step - loss: 1.0361 - accuracy: 0.6634 - val_loss: 1.0142 - val_accuracy: 0.6705 - lr: 0.0010\n",
      "Epoch 8/30\n",
      "112/112 [==============================] - ETA: 0s - loss: 1.0389 - accuracy: 0.6622WARNING:tensorflow:Learning rate reduction is conditioned on metric `val_acc` which is not available. Available metrics are: loss,accuracy,val_loss,val_accuracy,lr\n",
      "112/112 [==============================] - 23s 209ms/step - loss: 1.0389 - accuracy: 0.6622 - val_loss: 1.0110 - val_accuracy: 0.6711 - lr: 0.0010\n",
      "Epoch 9/30\n",
      "112/112 [==============================] - ETA: 0s - loss: 1.0227 - accuracy: 0.6640WARNING:tensorflow:Learning rate reduction is conditioned on metric `val_acc` which is not available. Available metrics are: loss,accuracy,val_loss,val_accuracy,lr\n",
      "112/112 [==============================] - 24s 211ms/step - loss: 1.0227 - accuracy: 0.6640 - val_loss: 1.0086 - val_accuracy: 0.6722 - lr: 0.0010\n",
      "Epoch 10/30\n",
      "112/112 [==============================] - ETA: 0s - loss: 1.0196 - accuracy: 0.6599WARNING:tensorflow:Learning rate reduction is conditioned on metric `val_acc` which is not available. Available metrics are: loss,accuracy,val_loss,val_accuracy,lr\n",
      "112/112 [==============================] - 23s 207ms/step - loss: 1.0196 - accuracy: 0.6599 - val_loss: 1.0062 - val_accuracy: 0.6717 - lr: 0.0010\n",
      "Epoch 11/30\n",
      "112/112 [==============================] - ETA: 0s - loss: 1.0168 - accuracy: 0.6604WARNING:tensorflow:Learning rate reduction is conditioned on metric `val_acc` which is not available. Available metrics are: loss,accuracy,val_loss,val_accuracy,lr\n",
      "112/112 [==============================] - 24s 211ms/step - loss: 1.0168 - accuracy: 0.6604 - val_loss: 0.9977 - val_accuracy: 0.6694 - lr: 0.0010\n",
      "Epoch 12/30\n",
      "112/112 [==============================] - ETA: 0s - loss: 1.0113 - accuracy: 0.6570WARNING:tensorflow:Learning rate reduction is conditioned on metric `val_acc` which is not available. Available metrics are: loss,accuracy,val_loss,val_accuracy,lr\n",
      "112/112 [==============================] - 23s 209ms/step - loss: 1.0113 - accuracy: 0.6570 - val_loss: 0.9932 - val_accuracy: 0.6700 - lr: 0.0010\n",
      "Epoch 13/30\n",
      "112/112 [==============================] - ETA: 0s - loss: 1.0012 - accuracy: 0.6612WARNING:tensorflow:Learning rate reduction is conditioned on metric `val_acc` which is not available. Available metrics are: loss,accuracy,val_loss,val_accuracy,lr\n",
      "112/112 [==============================] - 25s 226ms/step - loss: 1.0012 - accuracy: 0.6612 - val_loss: 0.9899 - val_accuracy: 0.6694 - lr: 0.0010\n",
      "Epoch 14/30\n",
      "112/112 [==============================] - ETA: 0s - loss: 1.0012 - accuracy: 0.6599WARNING:tensorflow:Learning rate reduction is conditioned on metric `val_acc` which is not available. Available metrics are: loss,accuracy,val_loss,val_accuracy,lr\n",
      "112/112 [==============================] - 24s 216ms/step - loss: 1.0012 - accuracy: 0.6599 - val_loss: 0.9834 - val_accuracy: 0.6694 - lr: 0.0010\n",
      "Epoch 15/30\n",
      "112/112 [==============================] - ETA: 0s - loss: 1.0003 - accuracy: 0.6608WARNING:tensorflow:Learning rate reduction is conditioned on metric `val_acc` which is not available. Available metrics are: loss,accuracy,val_loss,val_accuracy,lr\n",
      "112/112 [==============================] - 24s 210ms/step - loss: 1.0003 - accuracy: 0.6608 - val_loss: 0.9838 - val_accuracy: 0.6694 - lr: 0.0010\n",
      "Epoch 16/30\n",
      "112/112 [==============================] - ETA: 0s - loss: 0.9937 - accuracy: 0.6629WARNING:tensorflow:Learning rate reduction is conditioned on metric `val_acc` which is not available. Available metrics are: loss,accuracy,val_loss,val_accuracy,lr\n",
      "112/112 [==============================] - 23s 210ms/step - loss: 0.9937 - accuracy: 0.6629 - val_loss: 0.9786 - val_accuracy: 0.6683 - lr: 0.0010\n",
      "Epoch 17/30\n",
      "112/112 [==============================] - ETA: 0s - loss: 0.9902 - accuracy: 0.6598WARNING:tensorflow:Learning rate reduction is conditioned on metric `val_acc` which is not available. Available metrics are: loss,accuracy,val_loss,val_accuracy,lr\n",
      "112/112 [==============================] - 23s 204ms/step - loss: 0.9902 - accuracy: 0.6598 - val_loss: 0.9753 - val_accuracy: 0.6694 - lr: 0.0010\n",
      "Epoch 18/30\n",
      "112/112 [==============================] - ETA: 0s - loss: 0.9851 - accuracy: 0.6598WARNING:tensorflow:Learning rate reduction is conditioned on metric `val_acc` which is not available. Available metrics are: loss,accuracy,val_loss,val_accuracy,lr\n",
      "112/112 [==============================] - 23s 209ms/step - loss: 0.9851 - accuracy: 0.6598 - val_loss: 0.9748 - val_accuracy: 0.6689 - lr: 0.0010\n",
      "Epoch 19/30\n",
      "112/112 [==============================] - ETA: 0s - loss: 0.9812 - accuracy: 0.6627WARNING:tensorflow:Learning rate reduction is conditioned on metric `val_acc` which is not available. Available metrics are: loss,accuracy,val_loss,val_accuracy,lr\n",
      "112/112 [==============================] - 23s 208ms/step - loss: 0.9812 - accuracy: 0.6627 - val_loss: 0.9705 - val_accuracy: 0.6689 - lr: 0.0010\n",
      "Epoch 20/30\n",
      "112/112 [==============================] - ETA: 0s - loss: 0.9778 - accuracy: 0.6650WARNING:tensorflow:Learning rate reduction is conditioned on metric `val_acc` which is not available. Available metrics are: loss,accuracy,val_loss,val_accuracy,lr\n",
      "112/112 [==============================] - 23s 203ms/step - loss: 0.9778 - accuracy: 0.6650 - val_loss: 0.9724 - val_accuracy: 0.6694 - lr: 0.0010\n",
      "Epoch 21/30\n"
     ]
    },
    {
     "name": "stdout",
     "output_type": "stream",
     "text": [
      "112/112 [==============================] - ETA: 0s - loss: 0.9734 - accuracy: 0.6615WARNING:tensorflow:Learning rate reduction is conditioned on metric `val_acc` which is not available. Available metrics are: loss,accuracy,val_loss,val_accuracy,lr\n",
      "112/112 [==============================] - 23s 204ms/step - loss: 0.9734 - accuracy: 0.6615 - val_loss: 0.9654 - val_accuracy: 0.6700 - lr: 0.0010\n",
      "Epoch 22/30\n",
      "112/112 [==============================] - ETA: 0s - loss: 0.9736 - accuracy: 0.6672WARNING:tensorflow:Learning rate reduction is conditioned on metric `val_acc` which is not available. Available metrics are: loss,accuracy,val_loss,val_accuracy,lr\n",
      "112/112 [==============================] - 23s 203ms/step - loss: 0.9736 - accuracy: 0.6672 - val_loss: 0.9640 - val_accuracy: 0.6705 - lr: 0.0010\n",
      "Epoch 23/30\n",
      "112/112 [==============================] - ETA: 0s - loss: 0.9694 - accuracy: 0.6651WARNING:tensorflow:Learning rate reduction is conditioned on metric `val_acc` which is not available. Available metrics are: loss,accuracy,val_loss,val_accuracy,lr\n",
      "112/112 [==============================] - 23s 205ms/step - loss: 0.9694 - accuracy: 0.6651 - val_loss: 0.9590 - val_accuracy: 0.6694 - lr: 0.0010\n",
      "Epoch 24/30\n",
      "112/112 [==============================] - ETA: 0s - loss: 0.9676 - accuracy: 0.6640WARNING:tensorflow:Learning rate reduction is conditioned on metric `val_acc` which is not available. Available metrics are: loss,accuracy,val_loss,val_accuracy,lr\n",
      "112/112 [==============================] - 23s 204ms/step - loss: 0.9676 - accuracy: 0.6640 - val_loss: 0.9580 - val_accuracy: 0.6711 - lr: 0.0010\n",
      "Epoch 25/30\n",
      "112/112 [==============================] - ETA: 0s - loss: 0.9643 - accuracy: 0.6615WARNING:tensorflow:Learning rate reduction is conditioned on metric `val_acc` which is not available. Available metrics are: loss,accuracy,val_loss,val_accuracy,lr\n",
      "112/112 [==============================] - 23s 205ms/step - loss: 0.9643 - accuracy: 0.6615 - val_loss: 0.9578 - val_accuracy: 0.6694 - lr: 0.0010\n",
      "Epoch 26/30\n",
      "112/112 [==============================] - ETA: 0s - loss: 0.9624 - accuracy: 0.6667WARNING:tensorflow:Learning rate reduction is conditioned on metric `val_acc` which is not available. Available metrics are: loss,accuracy,val_loss,val_accuracy,lr\n",
      "112/112 [==============================] - 23s 204ms/step - loss: 0.9624 - accuracy: 0.6667 - val_loss: 0.9517 - val_accuracy: 0.6694 - lr: 0.0010\n",
      "Epoch 27/30\n",
      "112/112 [==============================] - ETA: 0s - loss: 0.9579 - accuracy: 0.6644WARNING:tensorflow:Learning rate reduction is conditioned on metric `val_acc` which is not available. Available metrics are: loss,accuracy,val_loss,val_accuracy,lr\n",
      "112/112 [==============================] - 23s 203ms/step - loss: 0.9579 - accuracy: 0.6644 - val_loss: 0.9487 - val_accuracy: 0.6683 - lr: 0.0010\n",
      "Epoch 28/30\n",
      "112/112 [==============================] - ETA: 0s - loss: 0.9577 - accuracy: 0.6640WARNING:tensorflow:Learning rate reduction is conditioned on metric `val_acc` which is not available. Available metrics are: loss,accuracy,val_loss,val_accuracy,lr\n",
      "112/112 [==============================] - 23s 206ms/step - loss: 0.9577 - accuracy: 0.6640 - val_loss: 0.9458 - val_accuracy: 0.6689 - lr: 0.0010\n",
      "Epoch 29/30\n",
      "112/112 [==============================] - ETA: 0s - loss: 0.9575 - accuracy: 0.6665WARNING:tensorflow:Learning rate reduction is conditioned on metric `val_acc` which is not available. Available metrics are: loss,accuracy,val_loss,val_accuracy,lr\n",
      "112/112 [==============================] - 26s 228ms/step - loss: 0.9575 - accuracy: 0.6665 - val_loss: 0.9425 - val_accuracy: 0.6700 - lr: 0.0010\n",
      "Epoch 30/30\n",
      "112/112 [==============================] - ETA: 0s - loss: 0.9580 - accuracy: 0.6622WARNING:tensorflow:Learning rate reduction is conditioned on metric `val_acc` which is not available. Available metrics are: loss,accuracy,val_loss,val_accuracy,lr\n",
      "112/112 [==============================] - 23s 209ms/step - loss: 0.9580 - accuracy: 0.6622 - val_loss: 0.9415 - val_accuracy: 0.6689 - lr: 0.0010\n"
     ]
    }
   ],
   "source": [
    "train_datagen = ImageDataGenerator(rotation_range=40, width_shift_range=0.2, height_shift_range=0.2,\n",
    "                             shear_range=0.2, zoom_range=0.2, horizontal_flip=True, fill_mode='nearest')\n",
    "\n",
    "train_datagen.fit(X_train)\n",
    "\n",
    "val_datagen = ImageDataGenerator()\n",
    "val_datagen.fit(X_val)\n",
    "learning_rate_reduction = ReduceLROnPlateau(monitor='val_acc', patience=3, verbose=1, factor=0.5, min_lr=0.00001)\n",
    "batch_size = 64\n",
    "epochs = 30\n",
    "history = model.fit_generator(train_datagen.flow(X_train,y_train, batch_size=batch_size),\n",
    "                              epochs = epochs, validation_data = val_datagen.flow(X_val, y_val),\n",
    "                              verbose = 1, steps_per_epoch=(X_train.shape[0] // batch_size),\n",
    "                              callbacks=[learning_rate_reduction])"
   ]
  },
  {
   "cell_type": "code",
   "execution_count": 15,
   "id": "51ef8ff8",
   "metadata": {},
   "outputs": [
    {
     "name": "stdout",
     "output_type": "stream",
     "text": [
      "32/32 [==============================] - 1s 20ms/step - loss: 0.9194 - accuracy: 0.6796\n",
      "57/57 [==============================] - 1s 21ms/step - loss: 0.9415 - accuracy: 0.6689\n",
      "Validation: accuracy = 0.668885  ;  loss_v = 0.941510\n",
      "Test: accuracy = 0.679641  ;  loss = 0.919366\n"
     ]
    },
    {
     "name": "stderr",
     "output_type": "stream",
     "text": [
      "C:\\Users\\dell6\\anaconda3\\lib\\site-packages\\keras\\src\\engine\\training.py:3000: UserWarning: You are saving your model as an HDF5 file via `model.save()`. This file format is considered legacy. We recommend using instead the native Keras format, e.g. `model.save('my_model.keras')`.\n",
      "  saving_api.save_model(\n"
     ]
    }
   ],
   "source": [
    "loss_test, acc_test = model.evaluate(X_test, y_test, verbose=1)\n",
    "loss_val, acc_val = model.evaluate(X_val, y_val, verbose=1)\n",
    "print(\"Validation: accuracy = %f  ;  loss_v = %f\" % (acc_val, loss_val))\n",
    "print(\"Test: accuracy = %f  ;  loss = %f\" % (acc_test, loss_test))\n",
    "model.save(\"model.h5\")"
   ]
  },
  {
   "cell_type": "code",
   "execution_count": 16,
   "id": "715117d0",
   "metadata": {},
   "outputs": [
    {
     "data": {
      "text/plain": [
       "Text(0.5, 1.0, 'Training and validation loss')"
      ]
     },
     "execution_count": 16,
     "metadata": {},
     "output_type": "execute_result"
    },
    {
     "data": {
      "image/png": "[encoded data removed]",
      "text/plain": [
       "<Figure size 640x480 with 1 Axes>"
      ]
     },
     "metadata": {},
     "output_type": "display_data"
    },
    {
     "data": {
      "image/png": "[encoded data removed]",
      "text/plain": [
       "<Figure size 640x480 with 1 Axes>"
      ]
     },
     "metadata": {},
     "output_type": "display_data"
    }
   ],
   "source": [
    "# Retrieve a list of accuracy results on training and test data\n",
    "# sets for each training epoch\n",
    "acc = history.history['accuracy']\n",
    "val_acc = history.history['val_accuracy']\n",
    "\n",
    "# Retrieve a list of list results on training and test data\n",
    "# sets for each training epoch\n",
    "loss = history.history['loss']\n",
    "val_loss = history.history['val_loss']\n",
    "\n",
    "# Get number of epochs\n",
    "epochs = range(len(acc))\n",
    "\n",
    "# Plot training and validation accuracy per epoch\n",
    "plt.plot(epochs, acc)\n",
    "plt.plot(epochs, val_acc)\n",
    "plt.title('Training and validation accuracy')\n",
    "\n",
    "plt.figure()\n",
    "\n",
    "# Plot training and validation loss per epoch\n",
    "plt.plot(epochs, loss)\n",
    "plt.plot(epochs, val_loss)\n",
    "plt.title('Training and validation loss')\n"
   ]
  }
 ],
 "metadata": {
  "kernelspec": {
   "display_name": "Python 3 (ipykernel)",
   "language": "python",
   "name": "python3"
  },
  "language_info": {
   "codemirror_mode": {
    "name": "ipython",
    "version": 3
   },
   "file_extension": ".py",
   "mimetype": "text/x-python",
   "name": "python",
   "nbconvert_exporter": "python",
   "pygments_lexer": "ipython3",
   "version": "3.12.4"
  },
  "varInspector": {
   "cols": {
    "lenName": 16,
    "lenType": 16,
    "lenVar": 40
   },
   "kernels_config": {
    "python": {
     "delete_cmd_postfix": "",
     "delete_cmd_prefix": "del ",
     "library": "var_list.py",
     "varRefreshCmd": "print(var_dic_list())"
    },
    "r": {
     "delete_cmd_postfix": ") ",
     "delete_cmd_prefix": "rm(",
     "library": "var_list.r",
     "varRefreshCmd": "cat(var_dic_list()) "
    }
   },
   "types_to_exclude": [
    "module",
    "function",
    "builtin_function_or_method",
    "instance",
    "_Feature"
   ],
   "window_display": false
  }
 },
 "nbformat": 4,
 "nbformat_minor": 5
}
